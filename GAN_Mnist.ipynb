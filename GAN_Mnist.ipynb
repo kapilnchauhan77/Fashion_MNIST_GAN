{
  "nbformat": 4,
  "nbformat_minor": 0,
  "metadata": {
    "colab": {
      "name": "GAN-Mnist.ipynb",
      "provenance": [],
      "collapsed_sections": [],
      "machine_shape": "hm",
      "include_colab_link": true
    },
    "kernelspec": {
      "name": "python3",
      "display_name": "Python 3"
    },
    "accelerator": "GPU"
  },
  "cells": [
    {
      "cell_type": "markdown",
      "metadata": {
        "id": "view-in-github",
        "colab_type": "text"
      },
      "source": [
        "<a href=\"https://colab.research.google.com/github/kapilnchauhan77/Fashion_MNIST_GAN/blob/master/GAN_Mnist.ipynb\" target=\"_parent\"><img src=\"https://colab.research.google.com/assets/colab-badge.svg\" alt=\"Open In Colab\"/></a>"
      ]
    },
    {
      "cell_type": "code",
      "metadata": {
        "id": "TF6_GjeL7Hp3",
        "colab_type": "code",
        "colab": {}
      },
      "source": [
        "import os\n",
        "import random\n",
        "import numpy as np\n",
        "import tensorflow as tf\n",
        "import matplotlib.pyplot as plt\n",
        "from tensorflow.keras.models import Model, Sequential\n",
        "from tensorflow.keras.activations import relu, tanh\n",
        "from tensorflow.keras.layers import Dropout, Dense, Flatten, BatchNormalization, Conv2D, Activation, Conv2DTranspose, Input, Reshape"
      ],
      "execution_count": 0,
      "outputs": []
    },
    {
      "cell_type": "code",
      "metadata": {
        "id": "tnJkNmEQ1laN",
        "colab_type": "code",
        "colab": {}
      },
      "source": [
        "data_set = tf.keras.datasets.fashion_mnist\n",
        "(x_train, _), (_, _) = data_set.load_data()"
      ],
      "execution_count": 0,
      "outputs": []
    },
    {
      "cell_type": "code",
      "metadata": {
        "id": "mB2v1VJtKO-i",
        "colab_type": "code",
        "colab": {}
      },
      "source": [
        "x_train = np.array(x_train).reshape(-1, 28, 28, 1)\n",
        "x_test = np.array(x_test).reshape(-1, 28, 28, 1)"
      ],
      "execution_count": 0,
      "outputs": []
    },
    {
      "cell_type": "code",
      "metadata": {
        "id": "KnzizDchRDMf",
        "colab_type": "code",
        "colab": {}
      },
      "source": [
        "x_train = np.array(x_train).astype(np.float32)\n",
        "x_test = np.array(x_test).astype(np.float32)"
      ],
      "execution_count": 0,
      "outputs": []
    },
    {
      "cell_type": "code",
      "metadata": {
        "id": "wtbWdHh216si",
        "colab_type": "code",
        "colab": {}
      },
      "source": [
        "def Discriminator():\n",
        "\n",
        "  model = Sequential()\n",
        "\n",
        "  model.add(Flatten(input_shape=x_train.shape[1:]))\n",
        "  model.add(Dense(512, activation=\"relu\"))\n",
        "  model.add(Dense(256, activation=\"relu\"))\n",
        "  model.add(Dense(1, activation='sigmoid'))\n",
        "  model.summary()\n",
        "\n",
        "  img = Input(shape=x_train.shape[1:])\n",
        "  validity = model(img)\n",
        "\n",
        "  return Model(img, validity)\n",
        "  "
      ],
      "execution_count": 0,
      "outputs": []
    },
    {
      "cell_type": "code",
      "metadata": {
        "id": "ane2nEa28uTU",
        "colab_type": "code",
        "colab": {
          "base_uri": "https://localhost:8080/",
          "height": 289
        },
        "outputId": "1828f32e-62b6-4a2e-9819-c9e244b49fe0"
      },
      "source": [
        "discriminator = Discriminator()"
      ],
      "execution_count": 160,
      "outputs": [
        {
          "output_type": "stream",
          "text": [
            "Model: \"sequential_15\"\n",
            "_________________________________________________________________\n",
            "Layer (type)                 Output Shape              Param #   \n",
            "=================================================================\n",
            "flatten_7 (Flatten)          (None, 784)               0         \n",
            "_________________________________________________________________\n",
            "dense_47 (Dense)             (None, 512)               401920    \n",
            "_________________________________________________________________\n",
            "dense_48 (Dense)             (None, 256)               131328    \n",
            "_________________________________________________________________\n",
            "dense_49 (Dense)             (None, 1)                 257       \n",
            "=================================================================\n",
            "Total params: 533,505\n",
            "Trainable params: 533,505\n",
            "Non-trainable params: 0\n",
            "_________________________________________________________________\n"
          ],
          "name": "stdout"
        }
      ]
    },
    {
      "cell_type": "code",
      "metadata": {
        "id": "TupsfrN3Z-lC",
        "colab_type": "code",
        "colab": {}
      },
      "source": [
        "discriminator.compile(loss='binary_crossentropy', optimizer=tf.keras.optimizers.Adam(0.0002, 0.5), metrics=['accuracy'])"
      ],
      "execution_count": 0,
      "outputs": []
    },
    {
      "cell_type": "code",
      "metadata": {
        "id": "65MLUarNLEBP",
        "colab_type": "code",
        "colab": {}
      },
      "source": [
        "def Generator():\n",
        "\n",
        "  model = Sequential()\n",
        "\n",
        "  model.add(Dense(256, input_dim=100, activation=\"relu\"))\n",
        "  model.add(BatchNormalization(momentum=0.8))\n",
        "  model.add(Dense(512, activation=\"relu\"))\n",
        "  model.add(BatchNormalization(momentum=0.8))\n",
        "  model.add(Dense(1024, activation=\"relu\"))\n",
        "  model.add(BatchNormalization(momentum=0.8))\n",
        "  model.add(Dense(np.prod((28,28)), activation='tanh'))\n",
        "  model.add(Reshape((28,28,1)))\n",
        "\n",
        "  noise = Input(shape=(100,))\n",
        "  img = model(noise)\n",
        "\n",
        "  return Model(noise, img)\n",
        "  "
      ],
      "execution_count": 0,
      "outputs": []
    },
    {
      "cell_type": "code",
      "metadata": {
        "id": "RUZ23-YIgjry",
        "colab_type": "code",
        "colab": {}
      },
      "source": [
        "generator = Generator()"
      ],
      "execution_count": 0,
      "outputs": []
    },
    {
      "cell_type": "code",
      "metadata": {
        "id": "GMfDiQF4Fm3S",
        "colab_type": "code",
        "colab": {}
      },
      "source": [
        "noise = Input(shape=(100,))\n",
        "img = generator(noise)\n",
        "discriminator.trainable = False\n",
        "validity = discriminator(img)\n",
        "combined = Model(noise, validity)\n",
        "combined.compile(loss='binary_crossentropy', optimizer=tf.keras.optimizers.Adam(0.0002, 0.5))"
      ],
      "execution_count": 0,
      "outputs": []
    },
    {
      "cell_type": "code",
      "metadata": {
        "id": "NzYYIr9-f8cX",
        "colab_type": "code",
        "colab": {}
      },
      "source": [
        "x_train=x_train/255\n",
        "x_test=x_test/255"
      ],
      "execution_count": 0,
      "outputs": []
    },
    {
      "cell_type": "code",
      "metadata": {
        "id": "aTx3QYHqgJ72",
        "colab_type": "code",
        "colab": {}
      },
      "source": [
        "def train_gan(epochs, batch_size):\n",
        "  valid = np.ones((batch_size, 1))\n",
        "  fake = np.zeros((batch_size, 1))\n",
        "  for i in range(epochs):\n",
        "    noise = np.random.normal(0, 1, (batch_size, 100))\n",
        "    noise = noise.astype(np.float32)\n",
        "    gen_imgs = generator.predict(noise)\n",
        "\n",
        "    idx = np.random.randint(0, x_train.shape[0], batch_size)\n",
        "    imgs = x_train[idx]\n",
        "\n",
        "    d_loss_real = discriminator.train_on_batch(imgs, valid)\n",
        "    d_loss_fake = discriminator.train_on_batch(gen_imgs, fake)\n",
        "    d_loss = 0.5 * np.add(d_loss_real, d_loss_fake)\n",
        "\n",
        "    noise = np.random.normal(0, 1, (batch_size, 100))\n",
        "    g_loss = combined.train_on_batch(noise, valid)\n",
        "\n",
        "    print (\"%d [D loss: %f, acc.: %.2f%%] [G loss: %f]\" % (i+1, d_loss[0], 100*d_loss[1], g_loss))"
      ],
      "execution_count": 0,
      "outputs": []
    },
    {
      "cell_type": "code",
      "metadata": {
        "id": "DLRH0OxkhkkU",
        "colab_type": "code",
        "colab": {}
      },
      "source": [
        "train_gan(30000, 128)"
      ],
      "execution_count": 0,
      "outputs": []
    },
    {
      "cell_type": "code",
      "metadata": {
        "id": "KLM8MEdyptIg",
        "colab_type": "code",
        "colab": {
          "base_uri": "https://localhost:8080/",
          "height": 286
        },
        "outputId": "0278c42c-87b4-4f42-bc1f-bed2eecff0c8"
      },
      "source": [
        "noise = np.random.normal(0, 1, (1, 100))\n",
        "gen_imgs = generator.predict(noise)\n",
        "plt.imshow(gen_imgs[0, :,:,0], cmap=\"gray\")"
      ],
      "execution_count": 146,
      "outputs": [
        {
          "output_type": "execute_result",
          "data": {
            "text/plain": [
              "<matplotlib.image.AxesImage at 0x7ff3f671a208>"
            ]
          },
          "metadata": {
            "tags": []
          },
          "execution_count": 146
        },
        {
          "output_type": "display_data",
          "data": {
            "image/png": "[encoded data removed]",
            "text/plain": [
              "<Figure size 432x288 with 1 Axes>"
            ]
          },
          "metadata": {
            "tags": []
          }
        }
      ]
    },
    {
      "cell_type": "code",
      "metadata": {
        "id": "dE7qNGqbq9bQ",
        "colab_type": "code",
        "colab": {
          "base_uri": "https://localhost:8080/",
          "height": 286
        },
        "outputId": "918a4e49-bcd9-44a0-b575-c499f0f59c11"
      },
      "source": [
        "noise = np.random.normal(0, 1, (1, 100))\n",
        "gen_imgs = generator.predict(noise)\n",
        "plt.imshow(gen_imgs[0, :,:,0], cmap=\"gray\")"
      ],
      "execution_count": 177,
      "outputs": [
        {
          "output_type": "execute_result",
          "data": {
            "text/plain": [
              "<matplotlib.image.AxesImage at 0x7ff3f7f66be0>"
            ]
          },
          "metadata": {
            "tags": []
          },
          "execution_count": 177
        },
        {
          "output_type": "display_data",
          "data": {
            "image/png": "[encoded data removed]",
            "text/plain": [
              "<Figure size 432x288 with 1 Axes>"
            ]
          },
          "metadata": {
            "tags": []
          }
        }
      ]
    }
  ]
}